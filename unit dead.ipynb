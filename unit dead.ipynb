{
 "cells": [
  {
   "cell_type": "code",
   "execution_count": 1,
   "metadata": {},
   "outputs": [
    {
     "name": "stderr",
     "output_type": "stream",
     "text": [
      "Using TensorFlow backend.\n"
     ]
    }
   ],
   "source": [
    "from keras.models import load_model\n",
    "import data\n",
    "from keras import backend as K\n",
    "import matplotlib.pyplot as plt"
   ]
  },
  {
   "cell_type": "code",
   "execution_count": 2,
   "metadata": {
    "collapsed": true
   },
   "outputs": [],
   "source": [
    "import matplotlib\n",
    "import numpy as np\n",
    "%matplotlib inline  "
   ]
  },
  {
   "cell_type": "code",
   "execution_count": 9,
   "metadata": {},
   "outputs": [
    {
     "name": "stdout",
     "output_type": "stream",
     "text": [
      "type of  model.layers[0].input\n",
      "<class 'tensorflow.python.framework.ops.Tensor'>\n",
      "type of  model.get_layer(conv1_a).output\n",
      "<class 'tensorflow.python.framework.ops.Tensor'>\n",
      "type of conv1\n",
      "<class 'numpy.ndarray'>\n",
      "shape of conv activation\n",
      "(16, 128, 128, 16)\n",
      "shape of fl_a\n",
      "(16, 10)\n",
      "conv activation\n",
      "- - - - - - - - - - - - - - - - - - - - - - - - - - - - - - - - - - - - - - - - - - - - - - - - - - - - - - - - - - - - - - - - - - - - - - - - - - - - - - - - - - - - - - - - - - - - - - - - - - - - \n",
      "f1\n",
      "[[    0.             0.             0.             0.             0.\n",
      "   1424.4909668      0.             0.             0.             0.        ]\n",
      " [    0.             0.             0.             0.             0.\n",
      "   1331.87182617     0.             0.             0.             0.        ]\n",
      " [    0.             0.             0.             0.             0.\n",
      "    759.1427002      0.             0.             0.             0.        ]\n",
      " [    0.             0.             0.             0.             0.\n",
      "   1434.55444336     0.             0.             0.             0.        ]\n",
      " [    0.             0.             0.             0.             0.\n",
      "   1353.91796875     0.             0.             0.             0.        ]\n",
      " [    0.             0.             0.             0.             0.\n",
      "   1245.23852539     0.             0.             0.             0.        ]\n",
      " [    0.             0.             0.             0.             0.\n",
      "   1051.0526123      0.             0.             0.             0.        ]\n",
      " [    0.             0.             0.             0.             0.\n",
      "   1633.72827148     0.             0.             0.             0.        ]\n",
      " [    0.             0.             0.             0.             0.\n",
      "   1313.64611816     0.             0.             0.             0.        ]\n",
      " [    0.             0.             0.             0.             0.\n",
      "   1721.7532959      0.             0.             0.             0.        ]\n",
      " [    0.             0.             0.             0.             0.\n",
      "   1751.41894531     0.             0.             0.             0.        ]\n",
      " [    0.             0.             0.             0.             0.\n",
      "   1587.84875488     0.             0.             0.             0.        ]\n",
      " [    0.             0.             0.             0.             0.\n",
      "    836.00952148     0.             0.             0.             0.        ]\n",
      " [    0.             0.             0.             0.             0.\n",
      "   1076.96142578     0.             0.             0.             0.        ]\n",
      " [    0.             0.             0.             0.             0.\n",
      "   1623.95178223     0.             0.             0.             0.        ]\n",
      " [    0.             0.             0.             0.             0.\n",
      "   1195.34057617     0.             0.             0.             0.        ]]\n"
     ]
    }
   ],
   "source": [
    "batch_size = 16\n",
    "num_classes = 3\n",
    "\n",
    "X,y  = data.read_dataset_from_pkl()\n",
    "X_train,X_val,X_test = X['train'].astype('float32')/255,X['val'].astype('float32')/255,X['test'].astype('float32')/255\n",
    "y_train,y_val,y_test = y['train'],y['val'],y['test']\n",
    "\n",
    "model = load_model('./save/final_model.hdf5')\n",
    "\n",
    "exp_test = X_test[0:batch_size]\n",
    "y_pred = model.predict(exp_test, batch_size=batch_size)\n",
    "\n",
    "conv_a = K.function([model.layers[0].input,K.learning_phase()], # if use dropout must use learning phase and set  mode\n",
    "                                  [model.get_layer('conv1_a').output])([exp_test,0])[0]\n",
    "\n",
    "f1_a = K.function([model.layers[0].input,K.learning_phase()],\n",
    "                                  [model.get_layer('dense1_a').output ])([exp_test,0])[0]\n",
    "\n",
    "\n",
    "\n",
    "\n",
    "print('type of  model.layers[0].input')\n",
    "print(type(model.layers[0].input))\n",
    "\n",
    "print('type of  model.get_layer(conv1_a).output')\n",
    "print(type(model.get_layer('conv1_a').output)) # by this way we can get tensorflow tensor\n",
    "\n",
    "\n",
    "\n",
    "print('type of conv1')\n",
    "print(type(conv_a))\n",
    "\n",
    "print('shape of conv activation')\n",
    "print(conv_a.shape)\n",
    "print('shape of fl_a')\n",
    "print(f1_a.shape)\n",
    "\n",
    "print('conv activation')\n",
    "#print(conv_a)\n",
    "print('- - '*50)\n",
    "print('f1')\n",
    "print(f1_a)"
   ]
  },
  {
   "cell_type": "code",
   "execution_count": 14,
   "metadata": {},
   "outputs": [
    {
     "data": {
      "image/png": "[encoded data removed]",
      "text/plain": [
       "<matplotlib.figure.Figure at 0x7f8ed41f1e80>"
      ]
     },
     "metadata": {},
     "output_type": "display_data"
    },
    {
     "data": {
      "image/png": "[encoded data removed]",
      "text/plain": [
       "<matplotlib.figure.Figure at 0x7f8ed41f1828>"
      ]
     },
     "metadata": {},
     "output_type": "display_data"
    }
   ],
   "source": [
    "import numpy.random as rnd\n",
    "def show_conva(pic_index,conv_a):\n",
    "\t#f, axarr = plt.subplots(4,4)\n",
    "\tconv_a = conv_a[pic_index]\n",
    "\tfor i in range(16):\n",
    "\t\ti1 = i//4 #integer divide\n",
    "\t\ti2 = i%4\n",
    "\t\t#axarr[i1,i2].plot(conv_a[:,:,i])  \n",
    "\t\t#axarr[i1,i2].imshow(conv_a[:,:,i], cmap = plt.get_cmap('gray'),vmin=0.0, vmax=1.0)\n",
    "\t\tplt.subplot(4, 4, i+1)\n",
    "\t\tplt.imshow(conv_a[:,:,i], cmap = plt.get_cmap('gray'),vmin=0.0, vmax=1.0)\n",
    "\t\t#plt.setp([a.get_xticklabels() for a in axarr[0, :]], visible=False)\n",
    "\t\t#plt.setp([a.get_yticklabels() for a in axarr[:, 1]], visible=False)\n",
    "\tplt.show()\n",
    "\n",
    "show_conva(0,conv_a)\n",
    "show_conva(1,conv_a)"
   ]
  },
  {
   "cell_type": "code",
   "execution_count": 23,
   "metadata": {},
   "outputs": [
    {
     "data": {
      "text/plain": [
       "1"
      ]
     },
     "execution_count": 23,
     "metadata": {},
     "output_type": "execute_result"
    }
   ],
   "source": [
    "5//4"
   ]
  },
  {
   "cell_type": "code",
   "execution_count": null,
   "metadata": {
    "collapsed": true
   },
   "outputs": [],
   "source": []
  }
 ],
 "metadata": {
  "kernelspec": {
   "display_name": "Python 3",
   "language": "python",
   "name": "python3"
  },
  "language_info": {
   "codemirror_mode": {
    "name": "ipython",
    "version": 3
   },
   "file_extension": ".py",
   "mimetype": "text/x-python",
   "name": "python",
   "nbconvert_exporter": "python",
   "pygments_lexer": "ipython3",
   "version": "3.6.1"
  }
 },
 "nbformat": 4,
 "nbformat_minor": 2
}
